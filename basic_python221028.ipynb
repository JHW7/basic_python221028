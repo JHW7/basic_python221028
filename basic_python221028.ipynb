{
  "nbformat": 4,
  "nbformat_minor": 0,
  "metadata": {
    "colab": {
      "provenance": [],
      "authorship_tag": "ABX9TyMbBnXDpdiaYxOzSXhcF2xg",
      "include_colab_link": true
    },
    "kernelspec": {
      "name": "python3",
      "display_name": "Python 3"
    },
    "language_info": {
      "name": "python"
    }
  },
  "cells": [
    {
      "cell_type": "markdown",
      "metadata": {
        "id": "view-in-github",
        "colab_type": "text"
      },
      "source": [
        "<a href=\"https://colab.research.google.com/github/JHW7/basic_python221028/blob/main/basic_python221028.ipynb\" target=\"_parent\"><img src=\"https://colab.research.google.com/assets/colab-badge.svg\" alt=\"Open In Colab\"/></a>"
      ]
    },
    {
      "cell_type": "code",
      "source": [
        "x = int(input(\"x의 값은?: \"))\n",
        "y = int(input(\"y의 값은?: \"))\n",
        "print(\"두 수의 합은 :\", x+y)\n",
        "print(\"두 수의 차는 :\", x-y)\n",
        "print(\"두 수의 곱은 :\", x*y)\n",
        "print(\"두 수의 평균은 :\", (x+y) / 2)\n",
        "print(\"큰 수는? :\", max(x, y))\n",
        "print(\"작은 수는? :\", min(x, y))                                   #장형욱"
      ],
      "metadata": {
        "colab": {
          "base_uri": "https://localhost:8080/"
        },
        "id": "alLEcQHGZ6lc",
        "outputId": "088f5441-cfaf-4ad2-8510-975913e93732"
      },
      "execution_count": 1,
      "outputs": [
        {
          "output_type": "stream",
          "name": "stdout",
          "text": [
            "x의 값은?: 9\n",
            "y의 값은?: 6\n",
            "두 수의 합은 : 15\n",
            "두 수의 차는 : 3\n",
            "두 수의 곱은 : 54\n",
            "두 수의 평균은 : 7.5\n",
            "큰 수는? : 9\n",
            "작은 수는? : 6\n"
          ]
        }
      ]
    },
    {
      "cell_type": "markdown",
      "source": [
        "2. 원기둥의 부피를 계산하는 프로그램을 작성해보자."
      ],
      "metadata": {
        "id": "esFBK_lze3yd"
      }
    },
    {
      "cell_type": "code",
      "source": [
        "r = float(input(\"r값은? :\"))\n",
        "h = float(input(\"h값은? :\"))\n",
        "vol = 3.141592 * r**2 * h\n",
        "print(\"원기둥의 부피 :\", vol)                                    #장형욱"
      ],
      "metadata": {
        "colab": {
          "base_uri": "https://localhost:8080/"
        },
        "id": "YA8Cnsg7ccna",
        "outputId": "cd499681-6d37-42fd-8363-084fc61ad291"
      },
      "execution_count": 3,
      "outputs": [
        {
          "output_type": "stream",
          "name": "stdout",
          "text": [
            "r값은? :10\n",
            "h값은? :10\n",
            "원기둥의 부피 : 3141.592\n"
          ]
        }
      ]
    },
    {
      "cell_type": "markdown",
      "source": [
        "3. 사용자로부터 정수를 받아 정수의 자리수의 합을 계산하는 프로그램을 작성하여 보자."
      ],
      "metadata": {
        "id": "pVlh3Okqeo1k"
      }
    },
    {
      "cell_type": "code",
      "source": [
        "number = int(input(\"정수를 입력하시오. :\"))\n",
        "sum = 0\n",
        "sum = sum + number % 10\n",
        "number = number // 10\n",
        "\n",
        "sum = sum + number % 10\n",
        "number = number // 10\n",
        "\n",
        "sum = sum + number % 10\n",
        "number = number // 10\n",
        "\n",
        "sum = sum + number % 10\n",
        "number = number // 10\n",
        "print(\"자리의 수의 합은: \", str(sum))                                 #장형욱"
      ],
      "metadata": {
        "colab": {
          "base_uri": "https://localhost:8080/"
        },
        "id": "G64LBC2heonn",
        "outputId": "805bc7bf-b698-45c8-fd5c-d0e35f891cbd"
      },
      "execution_count": 5,
      "outputs": [
        {
          "output_type": "stream",
          "name": "stdout",
          "text": [
            "정수를 입력하시오. :1234\n",
            "자리의 수의 합은:  10\n"
          ]
        }
      ]
    },
    {
      "cell_type": "markdown",
      "source": [
        "4. 사용자로부터 두 점의 좌표(x1, y1)과 (x2, y2)를 입력받아서 두 점 사이의 거리를 계산하는 프로그램을 작성해보자. 스크립트 모드로 작성하라. 거리는 다음 식으로 계산한다."
      ],
      "metadata": {
        "id": "e_SE4qAhhhM_"
      }
    },
    {
      "cell_type": "code",
      "source": [
        "x1 = int(input(\"x1의 값을 입력하시오 :\"))\n",
        "y1 = int(input(\"y1의 값을 입력하시오 :\"))\n",
        "x2 = int(input(\"x2의 값을 입력하시오 :\"))\n",
        "y2 = int(input(\"y2의 값을 입력하시오 :\"))\n",
        "dist = ((x2 -x1) **2 + (y2 - y1) **2) ** 0.5\n",
        "print(\"두 점의 사이의 거리는? :\", dist, \"입니다.\")"
      ],
      "metadata": {
        "colab": {
          "base_uri": "https://localhost:8080/"
        },
        "id": "L3SueUXlh0mR",
        "outputId": "176ff9df-71cd-48b6-aa31-c4e49f4932e3"
      },
      "execution_count": 11,
      "outputs": [
        {
          "output_type": "stream",
          "name": "stdout",
          "text": [
            "x1의 값을 입력하시오 :0\n",
            "y1의 값을 입력하시오 :0\n",
            "x2의 값을 입력하시오 :100\n",
            "y2의 값을 입력하시오 :100\n",
            "두 점의 사이의 거리는? : 141.4213562373095 입니다.\n"
          ]
        }
      ]
    },
    {
      "cell_type": "markdown",
      "source": [
        "5. 1번 문제에서 계산한 거리가 맞는지, 터틀그래픽으로 확인해보자.\n"
      ],
      "metadata": {
        "id": "BIPWUjIRnCKy"
      }
    },
    {
      "cell_type": "code",
      "source": [
        "import turtle\n",
        "t = turtle.Turtle()\n",
        "t.shape(\"turtle\")\n",
        "t.lt(45)\n",
        "t.fd(141)\n",
        "t.setheading(0)\n",
        "t.goto(0,0)\n",
        "t.fd(100)\n",
        "t.lt(90)\n",
        "t.fd(100)"
      ],
      "metadata": {
        "id": "XAMagvxFnbtu"
      },
      "execution_count": null,
      "outputs": []
    }
  ]
}